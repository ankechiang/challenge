{
 "cells": [
  {
   "cell_type": "markdown",
   "metadata": {
    "deletable": true,
    "editable": true
   },
   "source": [
    "## Part I-Data Analysis"
   ]
  },
  {
   "cell_type": "code",
   "execution_count": 77,
   "metadata": {
    "collapsed": true,
    "deletable": true,
    "editable": true
   },
   "outputs": [],
   "source": [
    "import numpy as np\n",
    "import pandas as pd\n",
    "import pickle, math\n",
    "import matplotlib.pyplot as plt\n",
    "import matplotlib.mlab as mlab\n",
    "from matplotlib.ticker import ScalarFormatter\n",
    "from matplotlib.ticker import MultipleLocator\n",
    "%matplotlib inline"
   ]
  },
  {
   "cell_type": "code",
   "execution_count": 116,
   "metadata": {
    "collapsed": false,
    "deletable": true,
    "editable": true
   },
   "outputs": [
    {
     "data": {
      "text/html": [
       "<div>\n",
       "<table border=\"1\" class=\"dataframe\">\n",
       "  <thead>\n",
       "    <tr style=\"text-align: right;\">\n",
       "      <th></th>\n",
       "      <th>country</th>\n",
       "      <th>sku_id</th>\n",
       "      <th>title</th>\n",
       "      <th>cat_lv1</th>\n",
       "      <th>cat_lv2</th>\n",
       "      <th>cat_lv3</th>\n",
       "      <th>short_desc</th>\n",
       "      <th>price</th>\n",
       "      <th>prod_type</th>\n",
       "    </tr>\n",
       "  </thead>\n",
       "  <tbody>\n",
       "    <tr>\n",
       "      <th>0</th>\n",
       "      <td>my</td>\n",
       "      <td>AD674FAASTLXANMY</td>\n",
       "      <td>Adana Gallery Suri Square Hijab – Light Pink</td>\n",
       "      <td>Fashion</td>\n",
       "      <td>Women</td>\n",
       "      <td>Muslim Wear</td>\n",
       "      <td>&lt;ul&gt;&lt;li&gt;Material : Non sheer shimmer chiffon&lt;/...</td>\n",
       "      <td>49.00</td>\n",
       "      <td>local</td>\n",
       "    </tr>\n",
       "    <tr>\n",
       "      <th>1</th>\n",
       "      <td>my</td>\n",
       "      <td>AE068HBAA3RPRDANMY</td>\n",
       "      <td>Cuba Heartbreaker Eau De Parfum Spray 100ml/3.3oz</td>\n",
       "      <td>Health &amp; Beauty</td>\n",
       "      <td>Bath &amp; Body</td>\n",
       "      <td>Hand &amp; Foot Care</td>\n",
       "      <td>Formulated with oil-free hydrating botanicals/...</td>\n",
       "      <td>128.00</td>\n",
       "      <td>international</td>\n",
       "    </tr>\n",
       "    <tr>\n",
       "      <th>2</th>\n",
       "      <td>my</td>\n",
       "      <td>AN680ELAA9VN57ANMY</td>\n",
       "      <td>Andoer 150cm Cellphone Smartphone Mini Dual-He...</td>\n",
       "      <td>TV, Audio / Video, Gaming &amp; Wearables</td>\n",
       "      <td>Audio</td>\n",
       "      <td>Live Sound &amp; Stage</td>\n",
       "      <td>&lt;ul&gt; &lt;li&gt;150cm mini microphone compatible for ...</td>\n",
       "      <td>25.07</td>\n",
       "      <td>international</td>\n",
       "    </tr>\n",
       "  </tbody>\n",
       "</table>\n",
       "</div>"
      ],
      "text/plain": [
       "  country              sku_id  \\\n",
       "0      my    AD674FAASTLXANMY   \n",
       "1      my  AE068HBAA3RPRDANMY   \n",
       "2      my  AN680ELAA9VN57ANMY   \n",
       "\n",
       "                                               title  \\\n",
       "0       Adana Gallery Suri Square Hijab – Light Pink   \n",
       "1  Cuba Heartbreaker Eau De Parfum Spray 100ml/3.3oz   \n",
       "2  Andoer 150cm Cellphone Smartphone Mini Dual-He...   \n",
       "\n",
       "                                 cat_lv1      cat_lv2             cat_lv3  \\\n",
       "0                                Fashion        Women         Muslim Wear   \n",
       "1                        Health & Beauty  Bath & Body    Hand & Foot Care   \n",
       "2  TV, Audio / Video, Gaming & Wearables        Audio  Live Sound & Stage   \n",
       "\n",
       "                                          short_desc   price      prod_type  \n",
       "0  <ul><li>Material : Non sheer shimmer chiffon</...   49.00          local  \n",
       "1  Formulated with oil-free hydrating botanicals/...  128.00  international  \n",
       "2  <ul> <li>150cm mini microphone compatible for ...   25.07  international  "
      ]
     },
     "execution_count": 116,
     "metadata": {},
     "output_type": "execute_result"
    }
   ],
   "source": [
    "# Load Data\n",
    "import pandas as pd\n",
    "\n",
    "train_data = pd.read_csv('./training/data_train.csv', names=['country','sku_id','title','cat_lv1','cat_lv2','cat_lv3','short_desc','price','prod_type'])\n",
    "clarity_label = pd.read_csv('./training/clarity_train.labels', names=['clarity'])\n",
    "conciseness_label = pd.read_csv('./training/conciseness_train.labels', names=['conciseness'])\n",
    "valid_data = pd.read_csv('./validation/data_valid.csv', names=['country','sku_id','title','cat_lv1','cat_lv2','cat_lv3','short_desc','price','prod_type'])\n",
    "\n",
    "train_data.head(3)\n"
   ]
  },
  {
   "cell_type": "markdown",
   "metadata": {},
   "source": [
    "### Correlation Analysis 1: Categorical Features "
   ]
  },
  {
   "cell_type": "code",
   "execution_count": 79,
   "metadata": {
    "collapsed": false
   },
   "outputs": [],
   "source": [
    "def getCategoricalFeatures(train_data, cat_columns):\n",
    "    map2no, data = {}, {}\n",
    "    for col in cat_columns: data[col] = []; map2no[col] = {}\n",
    "    for i, row in train_data.iterrows():\n",
    "        for col in cat_columns:\n",
    "            if not row[col] in map2no[col].keys(): map2no[col][row[col]] = len(map2no[col])\n",
    "            data[col].append(map2no[col][row[col]])\n",
    "    return data"
   ]
  },
  {
   "cell_type": "code",
   "execution_count": 80,
   "metadata": {
    "collapsed": false
   },
   "outputs": [
    {
     "data": {
      "text/html": [
       "<div>\n",
       "<table border=\"1\" class=\"dataframe\">\n",
       "  <thead>\n",
       "    <tr style=\"text-align: right;\">\n",
       "      <th></th>\n",
       "      <th>country</th>\n",
       "      <th>sku_id</th>\n",
       "      <th>cat_lv1</th>\n",
       "      <th>cat_lv2</th>\n",
       "      <th>cat_lv3</th>\n",
       "      <th>prod_type</th>\n",
       "      <th>conciseness</th>\n",
       "      <th>clarity</th>\n",
       "    </tr>\n",
       "  </thead>\n",
       "  <tbody>\n",
       "    <tr>\n",
       "      <th>0</th>\n",
       "      <td>0</td>\n",
       "      <td>0</td>\n",
       "      <td>0</td>\n",
       "      <td>0</td>\n",
       "      <td>0</td>\n",
       "      <td>0</td>\n",
       "      <td>1</td>\n",
       "      <td>1</td>\n",
       "    </tr>\n",
       "    <tr>\n",
       "      <th>1</th>\n",
       "      <td>0</td>\n",
       "      <td>1</td>\n",
       "      <td>1</td>\n",
       "      <td>1</td>\n",
       "      <td>1</td>\n",
       "      <td>1</td>\n",
       "      <td>1</td>\n",
       "      <td>1</td>\n",
       "    </tr>\n",
       "    <tr>\n",
       "      <th>2</th>\n",
       "      <td>0</td>\n",
       "      <td>2</td>\n",
       "      <td>2</td>\n",
       "      <td>2</td>\n",
       "      <td>2</td>\n",
       "      <td>1</td>\n",
       "      <td>0</td>\n",
       "      <td>1</td>\n",
       "    </tr>\n",
       "  </tbody>\n",
       "</table>\n",
       "</div>"
      ],
      "text/plain": [
       "   country  sku_id  cat_lv1  cat_lv2  cat_lv3  prod_type  conciseness  clarity\n",
       "0        0       0        0        0        0          0            1        1\n",
       "1        0       1        1        1        1          1            1        1\n",
       "2        0       2        2        2        2          1            0        1"
      ]
     },
     "execution_count": 80,
     "metadata": {},
     "output_type": "execute_result"
    }
   ],
   "source": [
    "cat_columns = ['country', 'sku_id', 'cat_lv1', 'cat_lv2', 'cat_lv3', 'prod_type']\n",
    "data = getCategoricalFeatures(train_data, cat_columns)\n",
    "subdata = []    \n",
    "for col in cat_columns: subdata.append(data[col])\n",
    "    \n",
    "subdata.append(conciseness_label['conciseness'].values.tolist())    \n",
    "subdata.append(clarity_label['clarity'].values.tolist())  \n",
    "\n",
    "catData = pd.DataFrame( subdata ).transpose()\n",
    "catData.columns = cat_columns+['conciseness','clarity']\n",
    "catData.head(3)"
   ]
  },
  {
   "cell_type": "code",
   "execution_count": 105,
   "metadata": {
    "collapsed": false,
    "deletable": true,
    "editable": true
   },
   "outputs": [
    {
     "data": {
      "text/plain": [
       "<matplotlib.axes.AxesSubplot at 0x11ee91710>"
      ]
     },
     "execution_count": 105,
     "metadata": {},
     "output_type": "execute_result"
    },
    {
     "data": {
      "image/png": "[encoded data removed]",
      "text/plain": [
       "<matplotlib.figure.Figure at 0x118c9ce50>"
      ]
     },
     "metadata": {},
     "output_type": "display_data"
    }
   ],
   "source": [
    "import seaborn as sns\n",
    "#corr_df=pd.DataFrame(columns=['feature','pearson', 'kendall', 'spearman'])\n",
    "corr=catData[cat_columns+['conciseness','clarity']].corr(method='pearson')\n",
    "fig, ax = plt.subplots(figsize=(7,7))         # Sample figsize in inches\n",
    "sns.heatmap(corr, annot=True, linewidths=.5, ax=ax)"
   ]
  },
  {
   "cell_type": "markdown",
   "metadata": {},
   "source": [
    "### Correlation Analysis 2: Numerical Features "
   ]
  },
  {
   "cell_type": "code",
   "execution_count": 111,
   "metadata": {
    "collapsed": true
   },
   "outputs": [],
   "source": [
    "def getPriceFeatures(train_data, nm_columns):\n",
    "    curreny = {'my':0.32, 'ph':0.028, 'sg':1.0}\n",
    "    map2no, data = {}, {}\n",
    "    for col in nm_columns: data[col] = []; map2no[col] = {}\n",
    "    for i, row in train_data.iterrows():\n",
    "        price = row['price']\n",
    "        data['price'].append(price)\n",
    "        data['price_sg'].append(price * curreny[row['country']])\n",
    "    return data"
   ]
  },
  {
   "cell_type": "code",
   "execution_count": 112,
   "metadata": {
    "collapsed": false
   },
   "outputs": [],
   "source": [
    "nm_columns = ['price', 'price_sg']\n",
    "data = getPriceFeatures(train_data, nm_columns)\n",
    "subdata = []    \n",
    "for col in nm_columns: subdata.append(data[col])\n",
    "    \n",
    "subdata.append(conciseness_label['conciseness'].values.tolist())    \n",
    "subdata.append(clarity_label['clarity'].values.tolist())  \n",
    "\n",
    "nmData = pd.DataFrame( subdata ).transpose()\n",
    "nmData.columns = nm_columns+['conciseness','clarity']\n"
   ]
  },
  {
   "cell_type": "code",
   "execution_count": 114,
   "metadata": {
    "collapsed": false
   },
   "outputs": [
    {
     "data": {
      "text/plain": [
       "<matplotlib.axes.AxesSubplot at 0x11cd4a850>"
      ]
     },
     "execution_count": 114,
     "metadata": {},
     "output_type": "execute_result"
    },
    {
     "data": {
      "image/png": "[encoded data removed]",
      "text/plain": [
       "<matplotlib.figure.Figure at 0x11af869d0>"
      ]
     },
     "metadata": {},
     "output_type": "display_data"
    }
   ],
   "source": [
    "nm_corr=nmData[nm_columns+['conciseness','clarity']].corr(method='pearson')\n",
    "fig, ax = plt.subplots(figsize=(5,5))         # Sample figsize in inches\n",
    "sns.heatmap(nm_corr, annot=True, linewidths=.5, ax=ax)"
   ]
  },
  {
   "cell_type": "markdown",
   "metadata": {
    "deletable": true,
    "editable": true
   },
   "source": [
    "### Correlation Analysis 3: Text Features"
   ]
  },
  {
   "cell_type": "code",
   "execution_count": 143,
   "metadata": {
    "collapsed": false,
    "deletable": true,
    "editable": true
   },
   "outputs": [],
   "source": [
    "import re\n",
    "def cleanhtml(raw_html):\n",
    "    cleanr = re.compile('<.*?>')\n",
    "    cleantext = re.sub(cleanr, '', raw_html)\n",
    "    return cleantext   \n",
    "\n",
    "def getTextFeatures(train_data, txt_columns):    \n",
    "    map2no, data = {}, {}\n",
    "    for col in txt_columns: data[col] = []; map2no[col] = {}\n",
    "    for i, row in train_data.iterrows():\n",
    "        title = cleanhtml(row['title'])\n",
    "        print row['short_desc']\n",
    "        desc = cleanhtml(row['short_desc'])\n",
    "        data['titleLen'].append(len(title))\n",
    "        data['descLen'].append(len(desc))\n",
    "    return data\n",
    "    "
   ]
  },
  {
   "cell_type": "code",
   "execution_count": 144,
   "metadata": {
    "collapsed": false
   },
   "outputs": [
    {
     "ename": "UnboundLocalError",
     "evalue": "local variable 'desc' referenced before assignment",
     "output_type": "error",
     "traceback": [
      "\u001b[0;31m---------------------------------------------------------------------------\u001b[0m",
      "\u001b[0;31mUnboundLocalError\u001b[0m                         Traceback (most recent call last)",
      "\u001b[0;32m<ipython-input-144-79e21b96fa75>\u001b[0m in \u001b[0;36m<module>\u001b[0;34m()\u001b[0m\n\u001b[1;32m      1\u001b[0m \u001b[0mtxt_columns\u001b[0m \u001b[0;34m=\u001b[0m \u001b[0;34m[\u001b[0m\u001b[0;34m'titleLen'\u001b[0m\u001b[0;34m,\u001b[0m \u001b[0;34m'descLen'\u001b[0m\u001b[0;34m]\u001b[0m\u001b[0;34m\u001b[0m\u001b[0m\n\u001b[0;32m----> 2\u001b[0;31m \u001b[0mdata\u001b[0m \u001b[0;34m=\u001b[0m \u001b[0mgetTextFeatures\u001b[0m\u001b[0;34m(\u001b[0m\u001b[0mtrain_data\u001b[0m\u001b[0;34m,\u001b[0m \u001b[0mtxt_columns\u001b[0m\u001b[0;34m)\u001b[0m\u001b[0;34m\u001b[0m\u001b[0m\n\u001b[0m\u001b[1;32m      3\u001b[0m \u001b[0;34m\u001b[0m\u001b[0m\n\u001b[1;32m      4\u001b[0m \u001b[0;34m\u001b[0m\u001b[0m\n\u001b[1;32m      5\u001b[0m \u001b[0msubdata\u001b[0m \u001b[0;34m=\u001b[0m \u001b[0;34m[\u001b[0m\u001b[0;34m]\u001b[0m\u001b[0;34m\u001b[0m\u001b[0m\n",
      "\u001b[0;32m<ipython-input-143-6502d94076ba>\u001b[0m in \u001b[0;36mgetTextFeatures\u001b[0;34m(train_data, txt_columns)\u001b[0m\n\u001b[1;32m     10\u001b[0m     \u001b[0;32mfor\u001b[0m \u001b[0mi\u001b[0m\u001b[0;34m,\u001b[0m \u001b[0mrow\u001b[0m \u001b[0;32min\u001b[0m \u001b[0mtrain_data\u001b[0m\u001b[0;34m.\u001b[0m\u001b[0miterrows\u001b[0m\u001b[0;34m(\u001b[0m\u001b[0;34m)\u001b[0m\u001b[0;34m:\u001b[0m\u001b[0;34m\u001b[0m\u001b[0m\n\u001b[1;32m     11\u001b[0m         \u001b[0mtitle\u001b[0m \u001b[0;34m=\u001b[0m \u001b[0mcleanhtml\u001b[0m\u001b[0;34m(\u001b[0m\u001b[0mrow\u001b[0m\u001b[0;34m[\u001b[0m\u001b[0;34m'title'\u001b[0m\u001b[0;34m]\u001b[0m\u001b[0;34m)\u001b[0m\u001b[0;34m\u001b[0m\u001b[0m\n\u001b[0;32m---> 12\u001b[0;31m         \u001b[0;32mprint\u001b[0m \u001b[0mdesc\u001b[0m\u001b[0;34m\u001b[0m\u001b[0m\n\u001b[0m\u001b[1;32m     13\u001b[0m         \u001b[0mdesc\u001b[0m \u001b[0;34m=\u001b[0m \u001b[0mcleanhtml\u001b[0m\u001b[0;34m(\u001b[0m\u001b[0mrow\u001b[0m\u001b[0;34m[\u001b[0m\u001b[0;34m'short_desc'\u001b[0m\u001b[0;34m]\u001b[0m\u001b[0;34m)\u001b[0m\u001b[0;34m\u001b[0m\u001b[0m\n\u001b[1;32m     14\u001b[0m         \u001b[0mdata\u001b[0m\u001b[0;34m[\u001b[0m\u001b[0;34m'titleLen'\u001b[0m\u001b[0;34m]\u001b[0m\u001b[0;34m.\u001b[0m\u001b[0mappend\u001b[0m\u001b[0;34m(\u001b[0m\u001b[0mlen\u001b[0m\u001b[0;34m(\u001b[0m\u001b[0mtitle\u001b[0m\u001b[0;34m)\u001b[0m\u001b[0;34m)\u001b[0m\u001b[0;34m\u001b[0m\u001b[0m\n",
      "\u001b[0;31mUnboundLocalError\u001b[0m: local variable 'desc' referenced before assignment"
     ]
    }
   ],
   "source": [
    "txt_columns = ['titleLen', 'descLen']\n",
    "data = getTextFeatures(train_data, txt_columns)\n",
    "\n",
    "\n",
    "subdata = []    \n",
    "for col in txt_columns: subdata.append(data[col])\n",
    "    \n",
    "subdata.append(conciseness_label['conciseness'].values.tolist())    \n",
    "subdata.append(clarity_label['clarity'].values.tolist())  \n",
    "\n",
    "txtData = pd.DataFrame( subdata ).transpose()\n",
    "txtData.columns = txt_columns+['conciseness','clarity']\n"
   ]
  },
  {
   "cell_type": "code",
   "execution_count": 138,
   "metadata": {
    "collapsed": false
   },
   "outputs": [
    {
     "data": {
      "text/plain": [
       "<matplotlib.axes.AxesSubplot at 0x113bf3f10>"
      ]
     },
     "execution_count": 138,
     "metadata": {},
     "output_type": "execute_result"
    },
    {
     "data": {
      "image/png": "[encoded data removed]",
      "text/plain": [
       "<matplotlib.figure.Figure at 0x11a0ef410>"
      ]
     },
     "metadata": {},
     "output_type": "display_data"
    }
   ],
   "source": [
    "txt_corr=txtData[txt_columns+['conciseness','clarity']].corr(method='pearson')\n",
    "fig, ax = plt.subplots(figsize=(5,5))         # Sample figsize in inches\n",
    "sns.heatmap(txt_corr, annot=True, linewidths=.5, ax=ax)"
   ]
  },
  {
   "cell_type": "code",
   "execution_count": null,
   "metadata": {
    "collapsed": true
   },
   "outputs": [],
   "source": []
  }
 ],
 "metadata": {
  "kernelspec": {
   "display_name": "Python 2",
   "language": "python",
   "name": "python2"
  },
  "language_info": {
   "codemirror_mode": {
    "name": "ipython",
    "version": 2
   },
   "file_extension": ".py",
   "mimetype": "text/x-python",
   "name": "python",
   "nbconvert_exporter": "python",
   "pygments_lexer": "ipython2",
   "version": "2.7.13"
  }
 },
 "nbformat": 4,
 "nbformat_minor": 2
}
